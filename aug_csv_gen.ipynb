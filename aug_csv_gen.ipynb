{
 "cells": [
  {
   "cell_type": "markdown",
   "id": "9dafb87b",
   "metadata": {},
   "source": [
    "# Generating New CSV Files to Augment our dataset sizes"
   ]
  },
  {
   "cell_type": "code",
   "execution_count": 1,
   "id": "93b13e70",
   "metadata": {},
   "outputs": [],
   "source": [
    "import pandas as pd\n",
    "import os\n",
    "\n",
    "dataset = \"Dataset_2017\""
   ]
  },
  {
   "cell_type": "code",
   "execution_count": 2,
   "id": "dcccb29e",
   "metadata": {},
   "outputs": [
    {
     "name": "stdout",
     "output_type": "stream",
     "text": [
      "374\n",
      "1626\n",
      "Old Ratio: 0.23001230012300122\n"
     ]
    }
   ],
   "source": [
    "img_labels = pd.read_csv(os.path.join(dataset,os.path.join(\"Ground_Truths\", \"Training_GroundTruth_1.csv\")))\n",
    "\n",
    "#get number of each class\n",
    "counts = img_labels['melanoma'].value_counts()\n",
    "num_malig  = counts[1.0]\n",
    "num_benign = counts[0.0]\n",
    "print(num_malig)\n",
    "print(num_benign)\n",
    "print(\"Old Ratio:\",num_malig/(num_benign))"
   ]
  },
  {
   "cell_type": "markdown",
   "id": "f5998806",
   "metadata": {},
   "source": [
    "## Data Augmentation for Model 2:\n",
    "Here we apply a transformation to 90% of the malignant images by storing a marker in the csv to indicate it should be transformed"
   ]
  },
  {
   "cell_type": "code",
   "execution_count": 3,
   "id": "f80bb9d0",
   "metadata": {},
   "outputs": [
    {
     "name": "stdout",
     "output_type": "stream",
     "text": [
      "          image_id  melanoma  seborrheic_keratosis  transform\n",
      "0     ISIC_0000000       0.0                   0.0          0\n",
      "1     ISIC_0000001       0.0                   0.0          0\n",
      "2     ISIC_0000002       1.0                   0.0          0\n",
      "3     ISIC_0000003       0.0                   0.0          0\n",
      "4     ISIC_0000004       1.0                   0.0          0\n",
      "...            ...       ...                   ...        ...\n",
      "2332  ISIC_0011169       1.0                   0.0          1\n",
      "2333  ISIC_0015166       1.0                   0.0          1\n",
      "2334  ISIC_0014013       1.0                   0.0          1\n",
      "2335  ISIC_0013972       1.0                   0.0          1\n",
      "2336  ISIC_0012988       1.0                   0.0          1\n",
      "\n",
      "[2337 rows x 4 columns]\n",
      "New Distribution:\n",
      "711\n",
      "1626\n",
      "Ratio: 0.43726937269372695\n"
     ]
    }
   ],
   "source": [
    "new_img_labels_2 = img_labels.copy(deep=True)\n",
    "new_img_labels_2[\"transform\"] = 0\n",
    "i=0\n",
    "while i < num_malig*0.9:\n",
    "    # Randomly select a single element\n",
    "    random_row = img_labels.sample(n=1)  # Randomly select one row\n",
    "    if(random_row.iloc[0][1] == 1.0):  \n",
    "        random_row[\"transform\"] = 1\n",
    "        new_img_labels_2 = pd.concat([new_img_labels_2,random_row],ignore_index=True)\n",
    "        i+=1\n",
    "print(new_img_labels_2)\n",
    "print(\"New Distribution:\")\n",
    "counts = new_img_labels_2['melanoma'].value_counts()\n",
    "num_malig  = counts[1.0]\n",
    "num_benign = counts[0.0]\n",
    "print(num_malig)\n",
    "print(num_benign)\n",
    "print(\"Ratio:\",num_malig/(num_benign))\n",
    "new_img_labels_2.to_csv(os.path.join(dataset,os.path.join(\"Ground_Truths\", \"Training_GroundTruth_2.csv\")), index=False)"
   ]
  },
  {
   "cell_type": "markdown",
   "id": "a7686726",
   "metadata": {},
   "source": [
    "## Data Augmentation 3\n",
    "Here we reduce the number of benign images until the ratio is 0.463"
   ]
  },
  {
   "cell_type": "code",
   "execution_count": 4,
   "id": "1fb72bf1",
   "metadata": {},
   "outputs": [
    {
     "name": "stdout",
     "output_type": "stream",
     "text": [
      "          image_id  melanoma  seborrheic_keratosis  transform\n",
      "0     ISIC_0000000       0.0                   0.0          0\n",
      "1     ISIC_0000001       0.0                   0.0          0\n",
      "2     ISIC_0000002       1.0                   0.0          0\n",
      "3     ISIC_0000003       0.0                   0.0          0\n",
      "4     ISIC_0000004       1.0                   0.0          0\n",
      "...            ...       ...                   ...        ...\n",
      "2332  ISIC_0011169       1.0                   0.0          1\n",
      "2333  ISIC_0015166       1.0                   0.0          1\n",
      "2334  ISIC_0014013       1.0                   0.0          1\n",
      "2335  ISIC_0013972       1.0                   0.0          1\n",
      "2336  ISIC_0012988       1.0                   0.0          1\n",
      "\n",
      "[2246 rows x 4 columns]\n",
      "New Distribution:\n",
      "711\n",
      "1535\n",
      "Ratio: 0.4631921824104234\n"
     ]
    }
   ],
   "source": [
    "\n",
    "new_img_labels_3 = new_img_labels_2.copy(deep=True)\n",
    "\n",
    "counts = new_img_labels_2['melanoma'].value_counts()\n",
    "ratio = counts[1.0]/counts[0.0]\n",
    "i=0\n",
    "while ratio <= 0.463:\n",
    "    # Randomly select a single element\n",
    "    random_row = new_img_labels_3.sample(n=1)  # Randomly select one row\n",
    "    if(random_row.iloc[0][1] == 0.0):  \n",
    "        new_img_labels_3 = new_img_labels_3.drop(index=random_row.index.tolist()[0])\n",
    "        counts = new_img_labels_3['melanoma'].value_counts()\n",
    "        ratio = counts[1.0]/counts[0.0]\n",
    "        i+=1\n",
    "print(new_img_labels_3)\n",
    "print(\"New Distribution:\")\n",
    "counts = new_img_labels_3['melanoma'].value_counts()\n",
    "num_malig  = counts[1.0]\n",
    "num_benign = counts[0.0]\n",
    "print(num_malig)\n",
    "print(num_benign)\n",
    "print(\"Ratio:\",num_malig/(num_benign))\n",
    "new_img_labels_3.to_csv(os.path.join(dataset,os.path.join(\"Ground_Truths\", \"Training_GroundTruth_3.csv\")), index=False)"
   ]
  },
  {
   "cell_type": "markdown",
   "id": "1bedde59",
   "metadata": {},
   "source": [
    "### Data Augmentation 4\n",
    "Here we transform the malignant images and reduce the beging until we have a ratio of 1.0"
   ]
  },
  {
   "cell_type": "code",
   "execution_count": 5,
   "id": "42e1412f",
   "metadata": {},
   "outputs": [
    {
     "name": "stdout",
     "output_type": "stream",
     "text": [
      "New Distribution:\n",
      "1085\n",
      "1084\n",
      "Ratio: 1.0009225092250922\n"
     ]
    }
   ],
   "source": [
    "new_img_labels_4 = img_labels.copy(deep=True)\n",
    "new_img_labels_4[\"transform\"] = 0\n",
    "i=0\n",
    "while i < num_malig*1.0:\n",
    "    # Randomly select a single element\n",
    "    random_row = img_labels.sample(n=1)  # Randomly select one row\n",
    "    if(random_row.iloc[0][1] == 1.0):  \n",
    "        random_row[\"transform\"] = 1\n",
    "        new_img_labels_4 = pd.concat([new_img_labels_4,random_row],ignore_index=True)\n",
    "        i+=1\n",
    "counts = new_img_labels_4['melanoma'].value_counts()\n",
    "ratio = counts[1.0]/counts[0.0]\n",
    "i=0\n",
    "while ratio <= 1.0:\n",
    "    # Randomly select a single element\n",
    "    random_row = new_img_labels_4.sample(n=1)  # Randomly select one row\n",
    "    if(random_row.iloc[0][1] == 0.0):  \n",
    "        new_img_labels_4 = new_img_labels_4.drop(index=random_row.index.tolist()[0])\n",
    "        counts = new_img_labels_4['melanoma'].value_counts()\n",
    "        ratio = counts[1.0]/counts[0.0]\n",
    "        i+=1\n",
    "\n",
    "\n",
    "print(\"New Distribution:\")\n",
    "counts = new_img_labels_4['melanoma'].value_counts()\n",
    "num_malig  = counts[1.0]\n",
    "num_benign = counts[0.0]\n",
    "print(num_malig)\n",
    "print(num_benign)\n",
    "print(\"Ratio:\",num_malig/(num_benign))\n",
    "new_img_labels_4.to_csv(os.path.join(dataset,os.path.join(\"Ground_Truths\", \"Training_GroundTruth_4.csv\")), index=False)"
   ]
  }
 ],
 "metadata": {
  "kernelspec": {
   "display_name": "Python 3",
   "language": "python",
   "name": "python3"
  },
  "language_info": {
   "codemirror_mode": {
    "name": "ipython",
    "version": 3
   },
   "file_extension": ".py",
   "mimetype": "text/x-python",
   "name": "python",
   "nbconvert_exporter": "python",
   "pygments_lexer": "ipython3",
   "version": "3.11.9"
  }
 },
 "nbformat": 4,
 "nbformat_minor": 5
}
